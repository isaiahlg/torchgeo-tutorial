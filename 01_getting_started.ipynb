{
  "cells": [
    {
      "cell_type": "markdown",
      "id": "35303546",
      "metadata": {
        "id": "35303546"
      },
      "source": [
        "Source: https://torchgeo.readthedocs.io/en/stable/tutorials/getting_started.html\n",
        "\n",
        "Copyright (c) Microsoft Corporation. All rights reserved.\n",
        "\n",
        "Licensed under the MIT License."
      ]
    },
    {
      "cell_type": "markdown",
      "id": "9478ed9a",
      "metadata": {
        "id": "9478ed9a"
      },
      "source": [
        "# Getting Started\n",
        "\n",
        "In this tutorial, we demonstrate some of the basic features of TorchGeo and show how easy it is to use if you're already familiar with other PyTorch domain libraries like torchvision.\n",
        "\n",
        "It's recommended to run this notebook on Google Colab if you don't have your own GPU. Click the \"Open in Colab\" button above to get started."
      ]
    },
    {
      "cell_type": "markdown",
      "id": "34f10e9f",
      "metadata": {
        "id": "34f10e9f"
      },
      "source": [
        "## Setup\n",
        "\n",
        "You need a Python environment to run this notebook. You can either do this in Google Colab, or by setting up a local python environment. I like to set my up using conda:"
      ]
    },
    {
      "cell_type": "code",
      "execution_count": null,
      "id": "536ccbf8",
      "metadata": {},
      "outputs": [],
      "source": [
        "# create a conda environment with python 3.11 for pytorch\n",
        "%conda create --name pyt2 python=3.11\n",
        "%conda activate pyt2\n",
        "\n",
        "# run this next line specific to your OS and GPU configuration. Use CPU if you don't have CUDA.\n",
        "# https://pytorch.org/get-started/locally/\n",
        "# this example is for a linux system with CUDA 12.1\n",
        "%conda install pytorch torchvision torchaudio pytorch-cuda=12.1 -c pytorch -c nvidia"
      ]
    },
    {
      "cell_type": "markdown",
      "id": "76d587b5",
      "metadata": {},
      "source": [
        "Now we can install TorchGeo. It's best to use `pip` for this."
      ]
    },
    {
      "cell_type": "code",
      "execution_count": 3,
      "id": "019092f0",
      "metadata": {
        "id": "019092f0"
      },
      "outputs": [
        {
          "name": "stdout",
          "output_type": "stream",
          "text": [
            "Requirement already satisfied: torchgeo in c:\\users\\ilyon\\.conda\\envs\\pyt\\lib\\site-packages (0.6.0)\n",
            "Requirement already satisfied: einops>=0.3 in c:\\users\\ilyon\\.conda\\envs\\pyt\\lib\\site-packages (from torchgeo) (0.8.0)\n",
            "Requirement already satisfied: fiona>=1.8.21 in c:\\users\\ilyon\\.conda\\envs\\pyt\\lib\\site-packages (from torchgeo) (1.10.1)\n",
            "Requirement already satisfied: kornia>=0.7.3 in c:\\users\\ilyon\\.conda\\envs\\pyt\\lib\\site-packages (from torchgeo) (0.7.3)\n",
            "Requirement already satisfied: lightly!=1.4.26,>=1.4.5 in c:\\users\\ilyon\\.conda\\envs\\pyt\\lib\\site-packages (from torchgeo) (1.5.13)\n",
            "Requirement already satisfied: lightning!=2.3.*,>=2 in c:\\users\\ilyon\\.conda\\envs\\pyt\\lib\\site-packages (from lightning[pytorch-extra]!=2.3.*,>=2->torchgeo) (2.4.0)\n",
            "Requirement already satisfied: matplotlib>=3.5 in c:\\users\\ilyon\\.conda\\envs\\pyt\\lib\\site-packages (from torchgeo) (3.9.2)\n",
            "Requirement already satisfied: numpy>=1.21.2 in c:\\users\\ilyon\\.conda\\envs\\pyt\\lib\\site-packages (from torchgeo) (2.0.1)\n",
            "Requirement already satisfied: pandas>=1.3.3 in c:\\users\\ilyon\\.conda\\envs\\pyt\\lib\\site-packages (from torchgeo) (2.2.3)\n",
            "Requirement already satisfied: pillow>=8.4 in c:\\users\\ilyon\\.conda\\envs\\pyt\\lib\\site-packages (from torchgeo) (10.4.0)\n",
            "Requirement already satisfied: pyproj>=3.3 in c:\\users\\ilyon\\.conda\\envs\\pyt\\lib\\site-packages (from torchgeo) (3.6.1)\n",
            "Collecting rasterio>=1.3 (from torchgeo)\n",
            "  Using cached rasterio-1.4.0-cp311-cp311-win_amd64.whl.metadata (9.3 kB)\n",
            "Requirement already satisfied: rtree>=1 in c:\\users\\ilyon\\.conda\\envs\\pyt\\lib\\site-packages (from torchgeo) (1.3.0)\n",
            "Requirement already satisfied: segmentation-models-pytorch>=0.2 in c:\\users\\ilyon\\.conda\\envs\\pyt\\lib\\site-packages (from torchgeo) (0.3.4)\n",
            "Requirement already satisfied: shapely>=1.8 in c:\\users\\ilyon\\.conda\\envs\\pyt\\lib\\site-packages (from torchgeo) (2.0.6)\n",
            "Requirement already satisfied: timm>=0.4.12 in c:\\users\\ilyon\\.conda\\envs\\pyt\\lib\\site-packages (from torchgeo) (0.9.7)\n",
            "Requirement already satisfied: torch>=1.13 in c:\\users\\ilyon\\.conda\\envs\\pyt\\lib\\site-packages (from torchgeo) (2.4.1)\n",
            "Requirement already satisfied: torchmetrics>=0.10 in c:\\users\\ilyon\\.conda\\envs\\pyt\\lib\\site-packages (from torchgeo) (1.4.2)\n",
            "Requirement already satisfied: torchvision>=0.14 in c:\\users\\ilyon\\.conda\\envs\\pyt\\lib\\site-packages (from torchgeo) (0.19.1)\n",
            "Requirement already satisfied: attrs>=19.2.0 in c:\\users\\ilyon\\.conda\\envs\\pyt\\lib\\site-packages (from fiona>=1.8.21->torchgeo) (24.2.0)\n",
            "Requirement already satisfied: certifi in c:\\users\\ilyon\\.conda\\envs\\pyt\\lib\\site-packages (from fiona>=1.8.21->torchgeo) (2024.8.30)\n",
            "Requirement already satisfied: click~=8.0 in c:\\users\\ilyon\\.conda\\envs\\pyt\\lib\\site-packages (from fiona>=1.8.21->torchgeo) (8.1.7)\n",
            "Requirement already satisfied: click-plugins>=1.0 in c:\\users\\ilyon\\.conda\\envs\\pyt\\lib\\site-packages (from fiona>=1.8.21->torchgeo) (1.1.1)\n",
            "Requirement already satisfied: cligj>=0.5 in c:\\users\\ilyon\\.conda\\envs\\pyt\\lib\\site-packages (from fiona>=1.8.21->torchgeo) (0.7.2)\n",
            "Requirement already satisfied: kornia-rs>=0.1.0 in c:\\users\\ilyon\\.conda\\envs\\pyt\\lib\\site-packages (from kornia>=0.7.3->torchgeo) (0.1.5)\n",
            "Requirement already satisfied: packaging in c:\\users\\ilyon\\.conda\\envs\\pyt\\lib\\site-packages (from kornia>=0.7.3->torchgeo) (24.1)\n",
            "Requirement already satisfied: hydra-core>=1.0.0 in c:\\users\\ilyon\\.conda\\envs\\pyt\\lib\\site-packages (from lightly!=1.4.26,>=1.4.5->torchgeo) (1.3.2)\n",
            "Requirement already satisfied: lightly-utils~=0.0.0 in c:\\users\\ilyon\\.conda\\envs\\pyt\\lib\\site-packages (from lightly!=1.4.26,>=1.4.5->torchgeo) (0.0.2)\n",
            "Requirement already satisfied: python-dateutil>=2.5.3 in c:\\users\\ilyon\\.conda\\envs\\pyt\\lib\\site-packages (from lightly!=1.4.26,>=1.4.5->torchgeo) (2.9.0.post0)\n",
            "Requirement already satisfied: requests>=2.23.0 in c:\\users\\ilyon\\.conda\\envs\\pyt\\lib\\site-packages (from lightly!=1.4.26,>=1.4.5->torchgeo) (2.32.3)\n",
            "Requirement already satisfied: six>=1.10 in c:\\users\\ilyon\\.conda\\envs\\pyt\\lib\\site-packages (from lightly!=1.4.26,>=1.4.5->torchgeo) (1.16.0)\n",
            "Requirement already satisfied: tqdm>=4.44 in c:\\users\\ilyon\\.conda\\envs\\pyt\\lib\\site-packages (from lightly!=1.4.26,>=1.4.5->torchgeo) (4.66.5)\n",
            "Requirement already satisfied: pydantic>=1.10.5 in c:\\users\\ilyon\\.conda\\envs\\pyt\\lib\\site-packages (from lightly!=1.4.26,>=1.4.5->torchgeo) (2.9.2)\n",
            "Requirement already satisfied: pytorch-lightning>=1.0.4 in c:\\users\\ilyon\\.conda\\envs\\pyt\\lib\\site-packages (from lightly!=1.4.26,>=1.4.5->torchgeo) (2.4.0)\n",
            "Requirement already satisfied: urllib3>=1.25.3 in c:\\users\\ilyon\\.conda\\envs\\pyt\\lib\\site-packages (from lightly!=1.4.26,>=1.4.5->torchgeo) (2.2.2)\n",
            "Requirement already satisfied: aenum>=3.1.11 in c:\\users\\ilyon\\.conda\\envs\\pyt\\lib\\site-packages (from lightly!=1.4.26,>=1.4.5->torchgeo) (3.1.15)\n",
            "Requirement already satisfied: PyYAML<8.0,>=5.4 in c:\\users\\ilyon\\.conda\\envs\\pyt\\lib\\site-packages (from lightning!=2.3.*,>=2->lightning[pytorch-extra]!=2.3.*,>=2->torchgeo) (6.0.1)\n",
            "Requirement already satisfied: fsspec<2026.0,>=2022.5.0 in c:\\users\\ilyon\\.conda\\envs\\pyt\\lib\\site-packages (from fsspec[http]<2026.0,>=2022.5.0->lightning!=2.3.*,>=2->lightning[pytorch-extra]!=2.3.*,>=2->torchgeo) (2024.9.0)\n",
            "Requirement already satisfied: lightning-utilities<2.0,>=0.10.0 in c:\\users\\ilyon\\.conda\\envs\\pyt\\lib\\site-packages (from lightning!=2.3.*,>=2->lightning[pytorch-extra]!=2.3.*,>=2->torchgeo) (0.11.7)\n",
            "Requirement already satisfied: typing-extensions<6.0,>=4.4.0 in c:\\users\\ilyon\\.conda\\envs\\pyt\\lib\\site-packages (from lightning!=2.3.*,>=2->lightning[pytorch-extra]!=2.3.*,>=2->torchgeo) (4.11.0)\n",
            "Requirement already satisfied: bitsandbytes<1.0,>=0.42.0 in c:\\users\\ilyon\\.conda\\envs\\pyt\\lib\\site-packages (from lightning[pytorch-extra]!=2.3.*,>=2->torchgeo) (0.44.0)\n",
            "Requirement already satisfied: jsonargparse<5.0,>=4.27.7 in c:\\users\\ilyon\\.conda\\envs\\pyt\\lib\\site-packages (from jsonargparse[signatures]<5.0,>=4.27.7; extra == \"pytorch-extra\"->lightning[pytorch-extra]!=2.3.*,>=2->torchgeo) (4.33.1)\n",
            "Requirement already satisfied: omegaconf<3.0,>=2.2.3 in c:\\users\\ilyon\\.conda\\envs\\pyt\\lib\\site-packages (from lightning[pytorch-extra]!=2.3.*,>=2->torchgeo) (2.3.0)\n",
            "Requirement already satisfied: rich<14.0,>=12.3.0 in c:\\users\\ilyon\\.conda\\envs\\pyt\\lib\\site-packages (from lightning[pytorch-extra]!=2.3.*,>=2->torchgeo) (13.8.1)\n",
            "Requirement already satisfied: tensorboardX<3.0,>=2.2 in c:\\users\\ilyon\\.conda\\envs\\pyt\\lib\\site-packages (from lightning[pytorch-extra]!=2.3.*,>=2->torchgeo) (2.6.2.2)\n",
            "Requirement already satisfied: contourpy>=1.0.1 in c:\\users\\ilyon\\.conda\\envs\\pyt\\lib\\site-packages (from matplotlib>=3.5->torchgeo) (1.3.0)\n",
            "Requirement already satisfied: cycler>=0.10 in c:\\users\\ilyon\\.conda\\envs\\pyt\\lib\\site-packages (from matplotlib>=3.5->torchgeo) (0.12.1)\n",
            "Requirement already satisfied: fonttools>=4.22.0 in c:\\users\\ilyon\\.conda\\envs\\pyt\\lib\\site-packages (from matplotlib>=3.5->torchgeo) (4.54.1)\n",
            "Requirement already satisfied: kiwisolver>=1.3.1 in c:\\users\\ilyon\\.conda\\envs\\pyt\\lib\\site-packages (from matplotlib>=3.5->torchgeo) (1.4.7)\n",
            "Requirement already satisfied: pyparsing>=2.3.1 in c:\\users\\ilyon\\.conda\\envs\\pyt\\lib\\site-packages (from matplotlib>=3.5->torchgeo) (3.1.4)\n",
            "Requirement already satisfied: pytz>=2020.1 in c:\\users\\ilyon\\.conda\\envs\\pyt\\lib\\site-packages (from pandas>=1.3.3->torchgeo) (2024.2)\n",
            "Requirement already satisfied: tzdata>=2022.7 in c:\\users\\ilyon\\.conda\\envs\\pyt\\lib\\site-packages (from pandas>=1.3.3->torchgeo) (2024.2)\n",
            "Requirement already satisfied: affine in c:\\users\\ilyon\\.conda\\envs\\pyt\\lib\\site-packages (from rasterio>=1.3->torchgeo) (2.4.0)\n",
            "Requirement already satisfied: efficientnet-pytorch==0.7.1 in c:\\users\\ilyon\\.conda\\envs\\pyt\\lib\\site-packages (from segmentation-models-pytorch>=0.2->torchgeo) (0.7.1)\n",
            "Requirement already satisfied: huggingface-hub>=0.24.6 in c:\\users\\ilyon\\.conda\\envs\\pyt\\lib\\site-packages (from segmentation-models-pytorch>=0.2->torchgeo) (0.25.1)\n",
            "Requirement already satisfied: pretrainedmodels==0.7.4 in c:\\users\\ilyon\\.conda\\envs\\pyt\\lib\\site-packages (from segmentation-models-pytorch>=0.2->torchgeo) (0.7.4)\n",
            "Requirement already satisfied: safetensors in c:\\users\\ilyon\\.conda\\envs\\pyt\\lib\\site-packages (from timm>=0.4.12->torchgeo) (0.4.5)\n",
            "Requirement already satisfied: munch in c:\\users\\ilyon\\.conda\\envs\\pyt\\lib\\site-packages (from pretrainedmodels==0.7.4->segmentation-models-pytorch>=0.2->torchgeo) (4.0.0)\n",
            "Requirement already satisfied: filelock in c:\\users\\ilyon\\.conda\\envs\\pyt\\lib\\site-packages (from torch>=1.13->torchgeo) (3.13.1)\n",
            "Requirement already satisfied: sympy in c:\\users\\ilyon\\.conda\\envs\\pyt\\lib\\site-packages (from torch>=1.13->torchgeo) (1.13.2)\n",
            "Requirement already satisfied: networkx in c:\\users\\ilyon\\.conda\\envs\\pyt\\lib\\site-packages (from torch>=1.13->torchgeo) (3.2.1)\n",
            "Requirement already satisfied: jinja2 in c:\\users\\ilyon\\.conda\\envs\\pyt\\lib\\site-packages (from torch>=1.13->torchgeo) (3.1.4)\n",
            "Requirement already satisfied: colorama in c:\\users\\ilyon\\.conda\\envs\\pyt\\lib\\site-packages (from click~=8.0->fiona>=1.8.21->torchgeo) (0.4.6)\n",
            "Requirement already satisfied: aiohttp!=4.0.0a0,!=4.0.0a1 in c:\\users\\ilyon\\.conda\\envs\\pyt\\lib\\site-packages (from fsspec[http]<2026.0,>=2022.5.0->lightning!=2.3.*,>=2->lightning[pytorch-extra]!=2.3.*,>=2->torchgeo) (3.10.6)\n",
            "Requirement already satisfied: antlr4-python3-runtime==4.9.* in c:\\users\\ilyon\\.conda\\envs\\pyt\\lib\\site-packages (from hydra-core>=1.0.0->lightly!=1.4.26,>=1.4.5->torchgeo) (4.9.3)\n",
            "Requirement already satisfied: docstring-parser>=0.15 in c:\\users\\ilyon\\.conda\\envs\\pyt\\lib\\site-packages (from jsonargparse[signatures]<5.0,>=4.27.7; extra == \"pytorch-extra\"->lightning[pytorch-extra]!=2.3.*,>=2->torchgeo) (0.16)\n",
            "Requirement already satisfied: typeshed-client>=2.1.0 in c:\\users\\ilyon\\.conda\\envs\\pyt\\lib\\site-packages (from jsonargparse[signatures]<5.0,>=4.27.7; extra == \"pytorch-extra\"->lightning[pytorch-extra]!=2.3.*,>=2->torchgeo) (2.7.0)\n",
            "Requirement already satisfied: setuptools in c:\\users\\ilyon\\.conda\\envs\\pyt\\lib\\site-packages (from lightning-utilities<2.0,>=0.10.0->lightning!=2.3.*,>=2->lightning[pytorch-extra]!=2.3.*,>=2->torchgeo) (75.1.0)\n",
            "Requirement already satisfied: annotated-types>=0.6.0 in c:\\users\\ilyon\\.conda\\envs\\pyt\\lib\\site-packages (from pydantic>=1.10.5->lightly!=1.4.26,>=1.4.5->torchgeo) (0.7.0)\n",
            "Requirement already satisfied: pydantic-core==2.23.4 in c:\\users\\ilyon\\.conda\\envs\\pyt\\lib\\site-packages (from pydantic>=1.10.5->lightly!=1.4.26,>=1.4.5->torchgeo) (2.23.4)\n",
            "Requirement already satisfied: charset-normalizer<4,>=2 in c:\\users\\ilyon\\.conda\\envs\\pyt\\lib\\site-packages (from requests>=2.23.0->lightly!=1.4.26,>=1.4.5->torchgeo) (3.3.2)\n",
            "Requirement already satisfied: idna<4,>=2.5 in c:\\users\\ilyon\\.conda\\envs\\pyt\\lib\\site-packages (from requests>=2.23.0->lightly!=1.4.26,>=1.4.5->torchgeo) (3.7)\n",
            "Requirement already satisfied: markdown-it-py>=2.2.0 in c:\\users\\ilyon\\.conda\\envs\\pyt\\lib\\site-packages (from rich<14.0,>=12.3.0->lightning[pytorch-extra]!=2.3.*,>=2->torchgeo) (3.0.0)\n",
            "Requirement already satisfied: pygments<3.0.0,>=2.13.0 in c:\\users\\ilyon\\.conda\\envs\\pyt\\lib\\site-packages (from rich<14.0,>=12.3.0->lightning[pytorch-extra]!=2.3.*,>=2->torchgeo) (2.15.1)\n",
            "Requirement already satisfied: protobuf>=3.20 in c:\\users\\ilyon\\.conda\\envs\\pyt\\lib\\site-packages (from tensorboardX<3.0,>=2.2->lightning[pytorch-extra]!=2.3.*,>=2->torchgeo) (5.28.2)\n",
            "Requirement already satisfied: MarkupSafe>=2.0 in c:\\users\\ilyon\\.conda\\envs\\pyt\\lib\\site-packages (from jinja2->torch>=1.13->torchgeo) (2.1.3)\n",
            "Requirement already satisfied: mpmath<1.4,>=1.1.0 in c:\\users\\ilyon\\.conda\\envs\\pyt\\lib\\site-packages (from sympy->torch>=1.13->torchgeo) (1.3.0)\n",
            "Requirement already satisfied: aiohappyeyeballs>=2.3.0 in c:\\users\\ilyon\\.conda\\envs\\pyt\\lib\\site-packages (from aiohttp!=4.0.0a0,!=4.0.0a1->fsspec[http]<2026.0,>=2022.5.0->lightning!=2.3.*,>=2->lightning[pytorch-extra]!=2.3.*,>=2->torchgeo) (2.4.2)\n",
            "Requirement already satisfied: aiosignal>=1.1.2 in c:\\users\\ilyon\\.conda\\envs\\pyt\\lib\\site-packages (from aiohttp!=4.0.0a0,!=4.0.0a1->fsspec[http]<2026.0,>=2022.5.0->lightning!=2.3.*,>=2->lightning[pytorch-extra]!=2.3.*,>=2->torchgeo) (1.3.1)\n",
            "Requirement already satisfied: frozenlist>=1.1.1 in c:\\users\\ilyon\\.conda\\envs\\pyt\\lib\\site-packages (from aiohttp!=4.0.0a0,!=4.0.0a1->fsspec[http]<2026.0,>=2022.5.0->lightning!=2.3.*,>=2->lightning[pytorch-extra]!=2.3.*,>=2->torchgeo) (1.4.1)\n",
            "Requirement already satisfied: multidict<7.0,>=4.5 in c:\\users\\ilyon\\.conda\\envs\\pyt\\lib\\site-packages (from aiohttp!=4.0.0a0,!=4.0.0a1->fsspec[http]<2026.0,>=2022.5.0->lightning!=2.3.*,>=2->lightning[pytorch-extra]!=2.3.*,>=2->torchgeo) (6.1.0)\n",
            "Requirement already satisfied: yarl<2.0,>=1.12.0 in c:\\users\\ilyon\\.conda\\envs\\pyt\\lib\\site-packages (from aiohttp!=4.0.0a0,!=4.0.0a1->fsspec[http]<2026.0,>=2022.5.0->lightning!=2.3.*,>=2->lightning[pytorch-extra]!=2.3.*,>=2->torchgeo) (1.13.1)\n",
            "Requirement already satisfied: mdurl~=0.1 in c:\\users\\ilyon\\.conda\\envs\\pyt\\lib\\site-packages (from markdown-it-py>=2.2.0->rich<14.0,>=12.3.0->lightning[pytorch-extra]!=2.3.*,>=2->torchgeo) (0.1.2)\n",
            "Requirement already satisfied: importlib-resources>=1.4.0 in c:\\users\\ilyon\\.conda\\envs\\pyt\\lib\\site-packages (from typeshed-client>=2.1.0->jsonargparse[signatures]<5.0,>=4.27.7; extra == \"pytorch-extra\"->lightning[pytorch-extra]!=2.3.*,>=2->torchgeo) (6.4.5)\n",
            "Using cached rasterio-1.4.0-cp311-cp311-win_amd64.whl (25.3 MB)\n",
            "Installing collected packages: rasterio\n",
            "Successfully installed rasterio-1.4.0\n",
            "Note: you may need to restart the kernel to use updated packages.\n"
          ]
        },
        {
          "name": "stderr",
          "output_type": "stream",
          "text": [
            "WARNING: Ignoring invalid distribution ~asterio (c:\\Users\\ilyon\\.conda\\envs\\pyt\\Lib\\site-packages)\n",
            "WARNING: Ignoring invalid distribution ~asterio (c:\\Users\\ilyon\\.conda\\envs\\pyt\\Lib\\site-packages)\n",
            "WARNING: Ignoring invalid distribution ~asterio (c:\\Users\\ilyon\\.conda\\envs\\pyt\\Lib\\site-packages)\n"
          ]
        }
      ],
      "source": [
        "%pip install torchgeo"
      ]
    },
    {
      "cell_type": "code",
      "execution_count": 4,
      "id": "393aecba",
      "metadata": {},
      "outputs": [
        {
          "name": "stdout",
          "output_type": "stream",
          "text": [
            "Collecting rasterio<1.4\n",
            "  Using cached rasterio-1.3.11-cp311-cp311-win_amd64.whl.metadata (15 kB)\n",
            "Requirement already satisfied: affine in c:\\users\\ilyon\\.conda\\envs\\pyt\\lib\\site-packages (from rasterio<1.4) (2.4.0)\n",
            "Requirement already satisfied: attrs in c:\\users\\ilyon\\.conda\\envs\\pyt\\lib\\site-packages (from rasterio<1.4) (24.2.0)\n",
            "Requirement already satisfied: certifi in c:\\users\\ilyon\\.conda\\envs\\pyt\\lib\\site-packages (from rasterio<1.4) (2024.8.30)\n",
            "Requirement already satisfied: click>=4.0 in c:\\users\\ilyon\\.conda\\envs\\pyt\\lib\\site-packages (from rasterio<1.4) (8.1.7)\n",
            "Requirement already satisfied: cligj>=0.5 in c:\\users\\ilyon\\.conda\\envs\\pyt\\lib\\site-packages (from rasterio<1.4) (0.7.2)\n",
            "Requirement already satisfied: numpy in c:\\users\\ilyon\\.conda\\envs\\pyt\\lib\\site-packages (from rasterio<1.4) (2.0.1)\n",
            "Requirement already satisfied: snuggs>=1.4.1 in c:\\users\\ilyon\\.conda\\envs\\pyt\\lib\\site-packages (from rasterio<1.4) (1.4.7)\n",
            "Requirement already satisfied: click-plugins in c:\\users\\ilyon\\.conda\\envs\\pyt\\lib\\site-packages (from rasterio<1.4) (1.1.1)\n",
            "Requirement already satisfied: setuptools in c:\\users\\ilyon\\.conda\\envs\\pyt\\lib\\site-packages (from rasterio<1.4) (75.1.0)\n",
            "Requirement already satisfied: colorama in c:\\users\\ilyon\\.conda\\envs\\pyt\\lib\\site-packages (from click>=4.0->rasterio<1.4) (0.4.6)\n",
            "Requirement already satisfied: pyparsing>=2.1.6 in c:\\users\\ilyon\\.conda\\envs\\pyt\\lib\\site-packages (from snuggs>=1.4.1->rasterio<1.4) (3.1.4)\n",
            "Using cached rasterio-1.3.11-cp311-cp311-win_amd64.whl (24.8 MB)\n",
            "Installing collected packages: rasterio\n",
            "  Attempting uninstall: rasterio\n",
            "    Found existing installation: rasterio 1.4.0\n",
            "    Uninstalling rasterio-1.4.0:\n",
            "      Successfully uninstalled rasterio-1.4.0\n",
            "Successfully installed rasterio-1.3.11\n",
            "Note: you may need to restart the kernel to use updated packages.\n"
          ]
        },
        {
          "name": "stderr",
          "output_type": "stream",
          "text": [
            "WARNING: Ignoring invalid distribution ~asterio (c:\\Users\\ilyon\\.conda\\envs\\pyt\\Lib\\site-packages)\n",
            "WARNING: Ignoring invalid distribution ~asterio (c:\\Users\\ilyon\\.conda\\envs\\pyt\\Lib\\site-packages)\n",
            "WARNING: Ignoring invalid distribution ~asterio (c:\\Users\\ilyon\\.conda\\envs\\pyt\\Lib\\site-packages)\n"
          ]
        }
      ],
      "source": [
        "# for this tutorial, we need to manually downgrade rasterio to an earlier version to get around a bug\n",
        "%pip install \"rasterio<1.4\""
      ]
    },
    {
      "cell_type": "markdown",
      "id": "4db9f791",
      "metadata": {
        "id": "4db9f791"
      },
      "source": [
        "## Imports\n",
        "\n",
        "Next, we import TorchGeo and any other libraries we need."
      ]
    },
    {
      "cell_type": "code",
      "execution_count": 6,
      "id": "3d92b0f1",
      "metadata": {
        "id": "3d92b0f1"
      },
      "outputs": [],
      "source": [
        "import os\n",
        "import tempfile\n",
        "\n",
        "from torch.utils.data import DataLoader\n",
        "\n",
        "from torchgeo.datasets import NAIP, ChesapeakeDE, stack_samples\n",
        "from torchgeo.datasets.utils import download_url\n",
        "from torchgeo.samplers import RandomGeoSampler"
      ]
    },
    {
      "cell_type": "markdown",
      "id": "7f26e4b8",
      "metadata": {
        "id": "7f26e4b8"
      },
      "source": [
        "## Datasets\n",
        "\n",
        "For this tutorial, we'll be using imagery from the [National Agriculture Imagery Program (NAIP)](https://catalog.data.gov/dataset/national-agriculture-imagery-program-naip) and labels from the [Chesapeake Bay High-Resolution Land Cover Project](https://www.chesapeakeconservancy.org/conservation-innovation-center/high-resolution-data/land-cover-data-project/). First, we manually download a few NAIP tiles and create a PyTorch Dataset."
      ]
    },
    {
      "cell_type": "code",
      "execution_count": 7,
      "id": "4a39af46",
      "metadata": {
        "id": "4a39af46"
      },
      "outputs": [
        {
          "name": "stdout",
          "output_type": "stream",
          "text": [
            "Using downloaded and verified file: C:\\Users\\ilyon\\AppData\\Local\\Temp\\naip\\m_3807511_ne_18_060_20181104.tif\n",
            "Using downloaded and verified file: C:\\Users\\ilyon\\AppData\\Local\\Temp\\naip\\m_3807511_se_18_060_20181104.tif\n",
            "Using downloaded and verified file: C:\\Users\\ilyon\\AppData\\Local\\Temp\\naip\\m_3807512_nw_18_060_20180815.tif\n",
            "Using downloaded and verified file: C:\\Users\\ilyon\\AppData\\Local\\Temp\\naip\\m_3807512_sw_18_060_20180815.tif\n"
          ]
        }
      ],
      "source": [
        "naip_root = os.path.join(tempfile.gettempdir(), 'naip')\n",
        "naip_url = (\n",
        "    'https://naipeuwest.blob.core.windows.net/naip/v002/de/2018/de_060cm_2018/38075/'\n",
        ")\n",
        "tiles = [\n",
        "    'm_3807511_ne_18_060_20181104.tif',\n",
        "    'm_3807511_se_18_060_20181104.tif',\n",
        "    'm_3807512_nw_18_060_20180815.tif',\n",
        "    'm_3807512_sw_18_060_20180815.tif',\n",
        "]\n",
        "for tile in tiles:\n",
        "    download_url(naip_url + tile, naip_root)\n",
        "\n",
        "naip = NAIP(naip_root)"
      ]
    },
    {
      "cell_type": "markdown",
      "id": "e25bad40",
      "metadata": {
        "id": "e25bad40"
      },
      "source": [
        "Next, we tell TorchGeo to automatically download the corresponding Chesapeake labels."
      ]
    },
    {
      "cell_type": "code",
      "execution_count": 8,
      "id": "689bb2b0",
      "metadata": {
        "id": "689bb2b0"
      },
      "outputs": [],
      "source": [
        "chesapeake_root = os.path.join(tempfile.gettempdir(), 'chesapeake')\n",
        "os.makedirs(chesapeake_root, exist_ok=True)\n",
        "chesapeake = ChesapeakeDE(chesapeake_root, crs=naip.crs, res=naip.res, download=True)"
      ]
    },
    {
      "cell_type": "markdown",
      "id": "56f2d78b",
      "metadata": {
        "id": "56f2d78b"
      },
      "source": [
        "Finally, we create an IntersectionDataset so that we can automatically sample from both GeoDatasets simultaneously."
      ]
    },
    {
      "cell_type": "code",
      "execution_count": 9,
      "id": "daefbc4d",
      "metadata": {
        "id": "daefbc4d"
      },
      "outputs": [],
      "source": [
        "dataset = naip & chesapeake"
      ]
    },
    {
      "cell_type": "markdown",
      "id": "ded44652",
      "metadata": {
        "id": "ded44652"
      },
      "source": [
        "## Sampler\n",
        "\n",
        "Unlike typical PyTorch Datasets, TorchGeo GeoDatasets are indexed using lat/long/time bounding boxes. This requires us to use a custom GeoSampler instead of the default sampler/batch_sampler that comes with PyTorch."
      ]
    },
    {
      "cell_type": "code",
      "execution_count": 10,
      "id": "b8a0d99c",
      "metadata": {
        "id": "b8a0d99c"
      },
      "outputs": [],
      "source": [
        "sampler = RandomGeoSampler(dataset, size=1000, length=10)"
      ]
    },
    {
      "cell_type": "markdown",
      "id": "5b8c1c52",
      "metadata": {
        "id": "5b8c1c52"
      },
      "source": [
        "## DataLoader\n",
        "\n",
        "Now that we have a Dataset and Sampler, we can combine these into a single DataLoader."
      ]
    },
    {
      "cell_type": "code",
      "execution_count": 11,
      "id": "96faa142",
      "metadata": {
        "id": "96faa142"
      },
      "outputs": [],
      "source": [
        "dataloader = DataLoader(dataset, sampler=sampler, collate_fn=stack_samples)"
      ]
    },
    {
      "cell_type": "markdown",
      "id": "64ae63f7",
      "metadata": {
        "id": "64ae63f7"
      },
      "source": [
        "## Training\n",
        "\n",
        "Other than that, the rest of the training pipeline is the same as it is for torchvision."
      ]
    },
    {
      "cell_type": "code",
      "execution_count": 12,
      "id": "8a2b44f8",
      "metadata": {
        "id": "8a2b44f8"
      },
      "outputs": [],
      "source": [
        "for sample in dataloader:\n",
        "    image = sample['image']\n",
        "    target = sample['mask']"
      ]
    }
  ],
  "metadata": {
    "colab": {
      "name": "getting_started.ipynb",
      "provenance": []
    },
    "execution": {
      "timeout": 1200
    },
    "kernelspec": {
      "display_name": "Python 3 (ipykernel)",
      "language": "python",
      "name": "python3"
    },
    "language_info": {
      "codemirror_mode": {
        "name": "ipython",
        "version": 3
      },
      "file_extension": ".py",
      "mimetype": "text/x-python",
      "name": "python",
      "nbconvert_exporter": "python",
      "pygments_lexer": "ipython3",
      "version": "3.11.9"
    }
  },
  "nbformat": 4,
  "nbformat_minor": 5
}
