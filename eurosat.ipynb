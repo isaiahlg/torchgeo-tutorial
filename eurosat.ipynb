{
 "cells": [
  {
   "cell_type": "markdown",
   "metadata": {},
   "source": [
    "# Download and Visualize EuroSat Data\n",
    "\n",
    "In this notebook, we use the torchgeo dataset/datamodules to download the EuroSat dataset (spatial and nonspatial split versions). We then plot a random sample of 6 images (with labels) from the training set and the test set for each dataset version. We also calculate the number of samples in each split for each version (spatial and nonspatial)."
   ]
  },
  {
   "cell_type": "code",
   "execution_count": 3,
   "metadata": {},
   "outputs": [],
   "source": [
    "import os\n",
    "import tempfile\n",
    "\n",
    "from torch.utils.data import DataLoader\n",
    "\n",
    "from torchgeo.datasets import EuroSAT, EuroSATSpatial, EuroSAT100"
   ]
  },
  {
   "cell_type": "code",
   "execution_count": 4,
   "metadata": {},
   "outputs": [
    {
     "name": "stdout",
     "output_type": "stream",
     "text": [
      "Downloading https://cdn-lfs.hf.co/repos/fc/1d/fc1dee780dee1dae2ad48856d0961ac6aa5dfcaaaa4fb3561be4aedf19b7ccc7/2ed4bb4a6808004c98691f64b366827f7783c76a49151e7c2b70423eb77a5b76?response-content-disposition=inline%3B+filename*%3DUTF-8%27%27EuroSAT100.zip%3B+filename%3D%22EuroSAT100.zip%22%3B&response-content-type=application%2Fzip&Expires=1727739697&Policy=eyJTdGF0ZW1lbnQiOlt7IkNvbmRpdGlvbiI6eyJEYXRlTGVzc1RoYW4iOnsiQVdTOkVwb2NoVGltZSI6MTcyNzczOTY5N319LCJSZXNvdXJjZSI6Imh0dHBzOi8vY2RuLWxmcy5oZi5jby9yZXBvcy9mYy8xZC9mYzFkZWU3ODBkZWUxZGFlMmFkNDg4NTZkMDk2MWFjNmFhNWRmY2FhYWE0ZmIzNTYxYmU0YWVkZjE5YjdjY2M3LzJlZDRiYjRhNjgwODAwNGM5ODY5MWY2NGIzNjY4MjdmNzc4M2M3NmE0OTE1MWU3YzJiNzA0MjNlYjc3YTViNzY%7EcmVzcG9uc2UtY29udGVudC1kaXNwb3NpdGlvbj0qJnJlc3BvbnNlLWNvbnRlbnQtdHlwZT0qIn1dfQ__&Signature=J6xMrqLeTrolcCinB-hFEAW4cmeBI3sFuOzdxEI21gNstegnPwF1NuCbqngMKc5aGW2vI8IfGiAu3riaOvyYD888EOEPDAPRrrgJm51R98nb%7Eb3T3Xg75IEfCJJja15rBTmmGsvnWW4mWuXNZSrzdsH37%7EXzmCbckklvYPeux-J-T1epePXSMxRQ3lQhrSRdpLD7ZvteVnhJ4SguJMk98l%7EYQIG9RGcqYonWOhhlr-bNwsX9sJdTu7w4slHVShN%7EDeC-669um7AKo6EM6XszFT6bFS5gLD40P5nOWSweDfGCZ56G8EG9MrRAt5TdvUBKCMo09AY%7EJs9g7e97xLRedA__&Key-Pair-Id=K3RPWS32NSSJCE to /tmp/eurosat100/EuroSAT100.zip\n"
     ]
    },
    {
     "name": "stderr",
     "output_type": "stream",
     "text": [
      "100%|██████████| 7717354/7717354 [00:00<00:00, 32285535.21it/s]\n"
     ]
    },
    {
     "name": "stdout",
     "output_type": "stream",
     "text": [
      "Downloading https://huggingface.co/datasets/torchgeo/eurosat/resolve/06fd1b090bceecc0ce724cd21578ba7a6664fe8d/eurosat-train.txt to /tmp/eurosat100/eurosat-train.txt\n"
     ]
    },
    {
     "name": "stderr",
     "output_type": "stream",
     "text": [
      "100%|██████████| 1152/1152 [00:00<00:00, 811391.81it/s]\n"
     ]
    },
    {
     "name": "stdout",
     "output_type": "stream",
     "text": [
      "Downloading https://huggingface.co/datasets/torchgeo/eurosat/resolve/06fd1b090bceecc0ce724cd21578ba7a6664fe8d/eurosat-val.txt to /tmp/eurosat100/eurosat-val.txt\n"
     ]
    },
    {
     "name": "stderr",
     "output_type": "stream",
     "text": [
      "100%|██████████| 383/383 [00:00<00:00, 335930.25it/s]\n"
     ]
    },
    {
     "name": "stdout",
     "output_type": "stream",
     "text": [
      "Downloading https://huggingface.co/datasets/torchgeo/eurosat/resolve/06fd1b090bceecc0ce724cd21578ba7a6664fe8d/eurosat-test.txt to /tmp/eurosat100/eurosat-test.txt\n"
     ]
    },
    {
     "name": "stderr",
     "output_type": "stream",
     "text": [
      "100%|██████████| 382/382 [00:00<00:00, 1207403.26it/s]\n"
     ]
    }
   ],
   "source": [
    "root = os.path.join(tempfile.gettempdir(), \"eurosat100\")\n",
    "dataset = EuroSAT100(root, download=True)"
   ]
  },
  {
   "cell_type": "code",
   "execution_count": 5,
   "metadata": {},
   "outputs": [
    {
     "name": "stdout",
     "output_type": "stream",
     "text": [
      "Number of images in dataset: 60\n",
      "Dataset Classes: ['AnnualCrop', 'Forest', 'HerbaceousVegetation', 'Highway', 'Industrial', 'Pasture', 'PermanentCrop', 'Residential', 'River', 'SeaLake']\n"
     ]
    }
   ],
   "source": [
    "print(f'Number of images in dataset: {len(dataset)}')\n",
    "print(f'Dataset Classes: {dataset.classes}')"
   ]
  },
  {
   "cell_type": "code",
   "execution_count": 6,
   "metadata": {},
   "outputs": [],
   "source": [
    "dataloader = DataLoader(\n",
    "    dataset,\n",
    "    batch_size=4,\n",
    "    shuffle=True,\n",
    "    num_workers=1 # what is this?\n",
    ")\n",
    "\n",
    "dataloader = iter(dataloader) # what is this line doing?"
   ]
  }
 ],
 "metadata": {
  "kernelspec": {
   "display_name": "pyt2",
   "language": "python",
   "name": "python3"
  },
  "language_info": {
   "codemirror_mode": {
    "name": "ipython",
    "version": 3
   },
   "file_extension": ".py",
   "mimetype": "text/x-python",
   "name": "python",
   "nbconvert_exporter": "python",
   "pygments_lexer": "ipython3",
   "version": "3.11.10"
  }
 },
 "nbformat": 4,
 "nbformat_minor": 2
}
